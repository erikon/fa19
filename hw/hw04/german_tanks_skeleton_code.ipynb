{
 "cells": [
  {
   "cell_type": "code",
   "execution_count": 1,
   "metadata": {},
   "outputs": [],
   "source": [
    "import random\n",
    "import math\n",
    "import pandas as pd\n",
    "import numpy as np\n",
    "from scipy.stats import norm\n",
    "from scipy.stats import binom\n",
    "from scipy.special import comb\n",
    "import matplotlib.pyplot as plt\n",
    "%matplotlib inline"
   ]
  },
  {
   "cell_type": "code",
   "execution_count": 2,
   "metadata": {},
   "outputs": [],
   "source": [
    "serial_numbers_1=[331]\n",
    "serial_numbers_2=[331,134, 306,  53, 272,  97, 100, 255,   3, 298]\n",
    "serial_numbers_3=[111, 228, 139, 216,  36, 213, 189,  71, 184, 331, 49, 224, 173, 311,305, 208, 231, 285, 142,  22, 168, 263, 135, 149, 155]"
   ]
  },
  {
   "cell_type": "markdown",
   "metadata": {},
   "source": [
    "# 2c: Unbiased Frequentist Estimator\n",
    "\n",
    "Fill out the following function with the unbiased estimator of maximum number of tanks, $N$, that you have derived."
   ]
  },
  {
   "cell_type": "code",
   "execution_count": 3,
   "metadata": {},
   "outputs": [],
   "source": [
    "def frequentist_estimator(serial_numbers):\n",
    "    \"\"\" Returns the frequentist estimator for N, the total number of tanks, \n",
    "    given a sample of k tanks with maximum serial number Y_k\n",
    "    \n",
    "    Parameters\n",
    "    ----------\n",
    "        serial_numbers : list of observed tank serial numbers\n",
    "    \n",
    "    Returns: estimate N_hat\n",
    "    \"\"\"\n",
    "    y_k = max(serial_numbers)\n",
    "    sample_size = len(serial_numbers)\n",
    "    N_hat = y_k * (sample_size**(-1) + 1) - 1\n",
    "    return N_hat"
   ]
  },
  {
   "cell_type": "markdown",
   "metadata": {},
   "source": [
    "# 2e: Bayesian Posterior\n",
    "\n",
    "Fill out the following functions with the posterior using the given uniform prior on $[100,1000]$. Then use this function to find the credible interval for $N$. The function $comb(n,k)$ returns $n$ choose $k$."
   ]
  },
  {
   "cell_type": "code",
   "execution_count": 4,
   "metadata": {},
   "outputs": [],
   "source": [
    "def uniform_prior(n,Nmin=100,Nmax=1000):\n",
    "    \"\"\" Returns the probability mass function of a uniform distribution on the integers from Nmin, Nmax\n",
    "    \n",
    "    Parameters\n",
    "    ----------\n",
    "        n : the value at which the prior is being evaluated.\n",
    "        Nmin : lower bound on support of prior \n",
    "        Nmax : upper bound on support of prior \n",
    "    \"\"\"\n",
    "    assert Nmax>Nmin\n",
    "    if n<=Nmax and n>=Nmin:\n",
    "        return 1.0/(Nmax-Nmin)\n",
    "    else:\n",
    "        return 0.0"
   ]
  },
  {
   "cell_type": "code",
   "execution_count": 5,
   "metadata": {},
   "outputs": [],
   "source": [
    "def posterior_distribution_with_uniform_prior(n,serial_numbers,Nmin=100,Nmax=1000):\n",
    "    \"\"\" Returns the frequentist estimator for N, the total number of tanks, \n",
    "    given a sample of k tanks with maximum serial number Y_k\n",
    "    \n",
    "    Parameters\n",
    "    ----------\n",
    "        n : value of N\n",
    "        serial_numbers : list of observed tank serial numbers\n",
    "        Nmin : lower bound on support of prior \n",
    "        Nmax : upper bound on support of prior \n",
    "    \n",
    "    Returns: P(N=n |serial_numbers)\n",
    "    \"\"\"\n",
    "    y_k = max(serial_numbers)\n",
    "    k = len(serial_numbers)\n",
    "    likelihood = 1\n",
    "    for i in serial_numbers:\n",
    "        likelihood = comb(i-1, k-1)/comb(n,k)    \n",
    "    posterior = uniform_prior(n=n, Nmin=Nmin, Nmax=Nmax) * likelihood\n",
    "    return posterior\n"
   ]
  },
  {
   "cell_type": "code",
   "execution_count": 6,
   "metadata": {},
   "outputs": [],
   "source": [
    "def plot_posteriors(serial_numbers,Nmin=100,Nmax=1000):\n",
    "    \"\"\" Plots the uniform prior and the posterior P(N |Y_k)\n",
    "    \n",
    "    Parameters\n",
    "    ----------\n",
    "    serial_numbers : list of observed tank serial numbers\n",
    "    Nmin: lower bound on support of prior \n",
    "    Nmax: upper bound on support of prior \n",
    "    \"\"\"\n",
    "    \n",
    "    support=np.arange(Nmin-10,Nmax+10)\n",
    "    uniform=[]\n",
    "    posterior=[]\n",
    "    for i in support:\n",
    "        uniform.append(uniform_prior(i,Nmin,Nmax)) \n",
    "        posterior.append(posterior_distribution_with_uniform_prior(i,serial_numbers,Nmin,Nmax))\n",
    "        \n",
    "\n",
    "    plt.plot([0, 1], [0, 0], color='white', lw=1)\n",
    "    plt.stem(support, uniform, linefmt='darkblue', label='Uniform prior')\n",
    "    plt.stem(support, posterior, linefmt='green', lw=1, label='Posterior - w/uniform prior')\n",
    "    plt.legend()\n",
    "    return\n"
   ]
  },
  {
   "cell_type": "code",
   "execution_count": 7,
   "metadata": {},
   "outputs": [],
   "source": [
    "def credible_interval(alpha,serial_numbers,Nmin=100,Nmax=1000):\n",
    "    \"\"\" returns the credible interval at the level alpha\n",
    "    \n",
    "    Parameters\n",
    "    ----------\n",
    "    alpha: amount of probability mass encompassed by credible interval\n",
    "    serial_numbers : list of observed tank serial numbers\n",
    "    Nmin : lower bound on support of prior \n",
    "    Nmax : upper bound on support of prior \n",
    "    \n",
    "    Returns: a list with the cutoffs for the credible intervals for N in the form\n",
    "                interval=[lower,upper]\n",
    "        \n",
    "    \"\"\"\n",
    "    y_k = max(serial_numbers)\n",
    "    k = len(serial_numbers)\n",
    "    return [y_k/(1-alpha)**(1/k), y_k/(alpha**(1/k))]\n",
    "\n"
   ]
  },
  {
   "cell_type": "code",
   "execution_count": 8,
   "metadata": {},
   "outputs": [],
   "source": [
    "def plot_frequentist_estimate_and_credible_int(alpha,serial_numbers,Nmin=100,Nmax=1000):\n",
    "    \"\"\" plots the posterior P(N| Y_k), the credible interval, and the frequentist estimate of N.\n",
    "    \n",
    "    Parameters\n",
    "    ----------\n",
    "    alpha : amount of probability mass encompassed by credible interval\n",
    "    serial_numbers : list of observed tank serial numbers\n",
    "    Nmin : lower bound on support of prior \n",
    "    Nmax : upper bound on support of prior \n",
    "    \n",
    "    \"\"\"\n",
    "    \n",
    "    #potential support of N\n",
    "    support=np.arange(Nmin,Nmax)\n",
    "    \n",
    "    #potential support of N\n",
    "    posterior=[]\n",
    "    low_interval_probs=[]\n",
    "    low_interval=[]\n",
    "    upper_interval_probs=[]\n",
    "    upper_interval=[]\n",
    "    \n",
    "    #gets credible_interval\n",
    "    left_end, right_end=credible_interval(alpha,serial_numbers,Nmin,Nmax)\n",
    "    \n",
    "    #gets frequentist estimate\n",
    "    frequentist_estimate=frequentist_estimator(serial_numbers)\n",
    "    \n",
    "    #print out information\n",
    "    print(\"Credible Interval: \"+str(left_end)+'-'+str(right_end))\n",
    "    print(\"Frequentist Estimate: \"+str(int(frequentist_estimate)))\n",
    "    \n",
    "    #keeps track of which elements in the support are in which intervals\n",
    "    for i in support:\n",
    "        prob=posterior_distribution_with_uniform_prior(i,serial_numbers,Nmin,Nmax)\n",
    "        posterior.append(prob)\n",
    "        if i<=left_end:\n",
    "            low_interval_probs.append(prob)\n",
    "            low_interval.append(i)\n",
    "        if i>=right_end:\n",
    "            upper_interval_probs.append(prob)\n",
    "            upper_interval.append(i)\n",
    "            \n",
    "    #plot posterior\n",
    "    plt.stem(support, posterior, linefmt='lightgreen',markerfmt='go',basefmt='None',label='Posterior - w/uniform prior')\n",
    "\n",
    "    \n",
    "    #plot credible interval\n",
    "    plt.plot([left_end, right_end], [0, 0], color='darkblue', lw=5, label='Credible Interval')\n",
    "    \n",
    "    #plot the lower interval\n",
    "    if len(low_interval)>0:\n",
    "        markerline, stemlines, baseline = plt.stem(low_interval,low_interval_probs,markerfmt='o',linefmt='darkorange',  basefmt='None')\n",
    "        markerline.set_markerfacecolor('darkorange')\n",
    "        markerline.set_markersize(8)\n",
    "        markerline.set_color('darkorange')\n",
    "    \n",
    "    #plot the higher interval\n",
    "    if len(upper_interval)>0:\n",
    "        markerline, stemlines, baseline=plt.stem(upper_interval, upper_interval_probs,markerfmt='o',linefmt='darkorange', basefmt='None')\n",
    "        markerline.set_markerfacecolor('darkorange')\n",
    "        markerline.set_markersize(8)\n",
    "        markerline.set_color('darkorange')\n",
    "\n",
    "    #plot the frequentist estimate\n",
    "    plt.plot([frequentist_estimate,frequentist_estimate], [0,max(posterior)] ,'o-',color='red', lw=3, label='Frequentist Estimate')\n",
    "\n",
    "    #Axes labels\n",
    "    plt.title('Each Orange Area = '+str(alpha*50.0)+'%', fontsize=15)\n",
    "    plt.xlabel('N')\n",
    "    plt.ylabel('P(N|Y_k)')\n",
    "    plt.legend(bbox_to_anchor=[1.0,1.0])\n",
    "    return"
   ]
  },
  {
   "cell_type": "code",
   "execution_count": 9,
   "metadata": {},
   "outputs": [
    {
     "name": "stdout",
     "output_type": "stream",
     "text": [
      "Credible Interval: 339.4871794871795-13240.0\n",
      "Frequentist Estimate: 661\n"
     ]
    },
    {
     "name": "stderr",
     "output_type": "stream",
     "text": [
      "/usr/local/anaconda3/lib/python3.7/site-packages/ipykernel_launcher.py:45: UserWarning: In Matplotlib 3.3 individual lines on a stem plot will be added as a LineCollection instead of individual lines. This significantly improves the performance of a stem plot. To remove this warning and switch to the new behaviour, set the \"use_line_collection\" keyword argument to True.\n",
      "/usr/local/anaconda3/lib/python3.7/site-packages/ipykernel_launcher.py:53: UserWarning: In Matplotlib 3.3 individual lines on a stem plot will be added as a LineCollection instead of individual lines. This significantly improves the performance of a stem plot. To remove this warning and switch to the new behaviour, set the \"use_line_collection\" keyword argument to True.\n"
     ]
    },
    {
     "data": {
      "image/png": "[encoded data removed]",
      "text/plain": [
       "<Figure size 432x288 with 1 Axes>"
      ]
     },
     "metadata": {
      "needs_background": "light"
     },
     "output_type": "display_data"
    }
   ],
   "source": [
    "plot_frequentist_estimate_and_credible_int(alpha=0.025,serial_numbers=serial_numbers_1,Nmin=100,Nmax=1000)"
   ]
  },
  {
   "cell_type": "code",
   "execution_count": null,
   "metadata": {},
   "outputs": [],
   "source": []
  }
 ],
 "metadata": {
  "kernelspec": {
   "display_name": "Python 3",
   "language": "python",
   "name": "python3"
  },
  "language_info": {
   "codemirror_mode": {
    "name": "ipython",
    "version": 3
   },
   "file_extension": ".py",
   "mimetype": "text/x-python",
   "name": "python",
   "nbconvert_exporter": "python",
   "pygments_lexer": "ipython3",
   "version": "3.7.3"
  }
 },
 "nbformat": 4,
 "nbformat_minor": 2
}
