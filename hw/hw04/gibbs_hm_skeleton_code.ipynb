{
 "cells": [
  {
   "cell_type": "code",
   "execution_count": 1,
   "metadata": {},
   "outputs": [
    {
     "name": "stdout",
     "output_type": "stream",
     "text": [
      "Populating the interactive namespace from numpy and matplotlib\n"
     ]
    }
   ],
   "source": [
    "%pylab inline\n",
    "\n",
    "import matplotlib.pyplot as plt\n",
    "import numpy as np\n",
    "import pandas as pd\n",
    "import scipy.stats\n",
    "import seaborn as sns"
   ]
  },
  {
   "cell_type": "markdown",
   "metadata": {},
   "source": [
    "## (a) Download the data and plot a histogram."
   ]
  },
  {
   "cell_type": "code",
   "execution_count": 2,
   "metadata": {},
   "outputs": [
    {
     "data": {
      "image/png": "[encoded data removed]",
      "text/plain": [
       "<Figure size 432x288 with 1 Axes>"
      ]
     },
     "metadata": {
      "needs_background": "light"
     },
     "output_type": "display_data"
    }
   ],
   "source": [
    "# Load bikeshare.csv, you might want to look into the read_csv function in pandas.\n",
    "# The columns of the data are:\n",
    "# sunny: 1 if the day was sunny, 0 otherwise.\n",
    "# working_day: 1 if the day was a working day, 0 otherwise.\n",
    "# month: the month the day was in, where the first month is 1.\n",
    "# num_rentals: the number of people that rented a bike on the day.\n",
    "data = pd.read_csv('bikeshare.csv') # TODO\n",
    "\n",
    "# Plot a histogram of the number of rentals in a given day with 20 bins.\n",
    "# TODO\n",
    "plt.figure()\n",
    "plt.hist(data['num_rentals'], bins=20)\n",
    "plt.xlabel('Number of rentals')\n",
    "plt.title('Histogram of # of rentals in a given day')\n",
    "plt.show()"
   ]
  },
  {
   "cell_type": "markdown",
   "metadata": {},
   "source": [
    "## (b) Use Gibb's sampling to simulate from the graphical model in the problem statement."
   ]
  },
  {
   "cell_type": "markdown",
   "metadata": {},
   "source": [
    "### (i) Implement `get_subgroup_statistics`."
   ]
  },
  {
   "cell_type": "code",
   "execution_count": 3,
   "metadata": {},
   "outputs": [],
   "source": [
    "def get_subgroup_statistics(data):\n",
    "    \"\"\"\n",
    "    Given bikesharing data, returns the means, standard deviations, and counts\n",
    "    split by categories sunny and working_day.\n",
    "    \n",
    "    Parameters\n",
    "    ----------\n",
    "    data : dataframe\n",
    "        A dataframe of bikesharing data with 0/1 categories `sunny` and `working_day`\n",
    "        and numerical value `num_rentals`.\n",
    "        \n",
    "    Returns\n",
    "    -------\n",
    "    means : 2x2 array of floats\n",
    "        An array where mean[i, j] corresponds to the empirical mean of rentals for\n",
    "        all days with working_day=i and sunny=j.\n",
    "    stds : 2x2 array of floats\n",
    "        An array where stds[i, j] corresponds to the empirical standard deviation\n",
    "        of rentals for all days with working_day=i and sunny=j.\n",
    "    counts : 2x2 array of floats\n",
    "        An array where mean[i, j] corresponds to the total number of rentals for\n",
    "        all days with working_day=i and sunny=j.\n",
    "    \"\"\"\n",
    "    num_categories = 2\n",
    "    means = np.zeros((num_categories, num_categories))\n",
    "    stds = np.zeros((num_categories, num_categories))\n",
    "    counts = np.zeros((num_categories, num_categories))\n",
    "    \n",
    "    # Iterate through all possible combinations of working_day and sunny.\n",
    "    for working_day in range(2):\n",
    "        for sunny in range(2):\n",
    "            filter1 = data['working_day'] == working_day\n",
    "            filter2 = data['sunny'] == sunny\n",
    "            counts[working_day, sunny] = data.where(filter1 & filter2)['num_rentals'].sum() # TODO\n",
    "            means[working_day, sunny] = data.where(filter1 & filter2)['num_rentals'].mean() # TODO\n",
    "            stds[working_day, sunny] = data.where(filter1 & filter2)['num_rentals'].std()# TODO\n",
    "\n",
    "    return means, stds, counts"
   ]
  },
  {
   "cell_type": "markdown",
   "metadata": {},
   "source": [
    "Now that we've implemented `get_subgroup_statistics`, let's see what one of its output looks like."
   ]
  },
  {
   "cell_type": "code",
   "execution_count": 4,
   "metadata": {},
   "outputs": [
    {
     "name": "stdout",
     "output_type": "stream",
     "text": [
      "counts:\n",
      "         rainy   sunny\n",
      "weekend  85263.0    231469.0\n",
      "workday  88408.0   214877.0\n"
     ]
    }
   ],
   "source": [
    "means, stds, counts = get_subgroup_statistics(data)\n",
    "print(\"counts:\")\n",
    "print(\"         rainy   sunny\")\n",
    "print(\"weekend  {0}    {1}\".format(counts[0, 0], counts[0, 1]))\n",
    "print(\"workday  {0}   {1}\".format(counts[1, 0], counts[1, 1]))"
   ]
  },
  {
   "cell_type": "markdown",
   "metadata": {},
   "source": [
    "### (ii) Fill in the following code:"
   ]
  },
  {
   "cell_type": "code",
   "execution_count": 5,
   "metadata": {},
   "outputs": [],
   "source": [
    "def sample_num_rentals(workday, sunny, means, stds):\n",
    "    \"\"\"\n",
    "    Randomly sample the number of bike rentals from one of four Gaussians depending\n",
    "    on the given daily conditions.\n",
    "    \n",
    "    Parameters\n",
    "    ----------\n",
    "    workday : int\n",
    "        1 if the day we wish to sample for is a workday, 0 if it's a weekend.\n",
    "    sunny : int\n",
    "        1 if the day we wish to sample for is sunny, 0 if it's rainy.\n",
    "    means : 2x2 array of floats\n",
    "        An array where mean[i, j] corresponds to the mean of the Gaussian\n",
    "        we sample from when working_day=i and sunny=j.\n",
    "    stds : 2x2 array of floats\n",
    "        An array where mean[i, j] corresponds to the standard deviation of the Gaussian\n",
    "        we sample from when working_day=i and sunny=j.\n",
    "        \n",
    "    Returns\n",
    "    -------\n",
    "    count : float\n",
    "        A Gaussian sampled count.\n",
    "    \"\"\"\n",
    "    mu, sigma = means[workday, sunny], stds[workday, sunny]\n",
    "    return np.random.normal(loc=mu, scale=sigma, size=1) # TODO\n",
    "\n",
    "\n",
    "def simulate_rentals(num_samples, p_workday, p_sunny, means, stds):\n",
    "    \"\"\"\n",
    "    Simulate `num_samples` days by using the sampling procedure defined\n",
    "    in the homework sheet.\n",
    "    \n",
    "    Parameters\n",
    "    ----------\n",
    "    num_samples : int\n",
    "        The number of days to simulate.\n",
    "    p_workday : float\n",
    "        The probability that any given day will be a workday.\n",
    "    p_sunny : float\n",
    "        The probability that any given day will be sunny.\n",
    "    means : 2x2 array of floats\n",
    "        An array where mean[i, j] corresponds to the mean of the Gaussian\n",
    "        we sample from for the number of rentals when working_day=i and sunny=j.\n",
    "    stds : 2x2 array of floats\n",
    "        An array where stds[i, j] corresponds to the standard deviation of the Gaussian\n",
    "        we sample from for the number of rentals when working_day=i and sunny=j.\n",
    "        \n",
    "    Returns\n",
    "    -------\n",
    "    samples : num_samples x 3 array of floats\n",
    "        The generated samples where samples[i, 0] is 1 if day i was a workday,\n",
    "        samples[i, 1] is 1 if day i was sunny, and samples[i, 2] is the number\n",
    "        of rentals that happened on that day.\n",
    "    \"\"\"\n",
    "    samples = np.zeros((num_samples, 3))\n",
    "    for t in range(num_samples):\n",
    "        x_t = np.zeros(3)\n",
    "        x_t[0] = np.random.binomial(n=1, p=p_workday) # TODO: This should be a bernouili sample that repesents workday.\n",
    "        x_t[1] = np.random.binomial(n=1, p=p_sunny) # TODO: This should be a bernouilli sample that represents sunny.\n",
    "        x_t[2] = sample_num_rentals(workday=int(x_t[0]), sunny=int(x_t[1]), means=means, stds=stds) # TODO: The sampled number of rentals. You might want to cast x_t[0], x_t[1] to ints.\n",
    "        samples[t] = x_t\n",
    "        \n",
    "    return samples"
   ]
  },
  {
   "cell_type": "markdown",
   "metadata": {},
   "source": [
    "## (c) Draw 1000 samples; plot a histogram of the resulting draws for the number of bikes in a given day."
   ]
  },
  {
   "cell_type": "code",
   "execution_count": 6,
   "metadata": {},
   "outputs": [
    {
     "data": {
      "text/plain": [
       "Text(0.5, 1.0, 'average day simulations')"
      ]
     },
     "execution_count": 6,
     "metadata": {},
     "output_type": "execute_result"
    },
    {
     "data": {
      "image/png": "[encoded data removed]",
      "text/plain": [
       "<Figure size 432x288 with 1 Axes>"
      ]
     },
     "metadata": {
      "needs_background": "light"
     },
     "output_type": "display_data"
    }
   ],
   "source": [
    "# Assume a 5 day workweek; ignore holidays.\n",
    "p_workday = 5.0 / 7.0\n",
    "\n",
    "# Use the fraction of sunny days from your dataset.\n",
    "frac_sunny_days = data.where(data['sunny'] == 1).shape[0] / data.shape[0] # TODO\n",
    "p_sunny = frac_sunny_days\n",
    "\n",
    "# Get the data statistics.\n",
    "means, stds, counts = get_subgroup_statistics(data)\n",
    "\n",
    "T = 1000\n",
    "samples = simulate_rentals(num_samples=T,\n",
    "                           p_workday=p_workday,\n",
    "                           p_sunny=p_sunny,\n",
    "                           means=means,\n",
    "                           stds=stds)\n",
    "\n",
    "# Plot the histogram.\n",
    "plt.hist(samples[:, 2], bins=20)\n",
    "plt.xlabel(\"# of Bike Rentals\");\n",
    "plt.ylabel(\"Samples\");\n",
    "plt.title(\"average day simulations\")"
   ]
  },
  {
   "cell_type": "markdown",
   "metadata": {},
   "source": [
    "## (d) Run 1000 simulations given a forecast of 80% rain tomorrow; plot a histogram of the resulting draws for the number of bikes in a given day.\n"
   ]
  },
  {
   "cell_type": "markdown",
   "metadata": {},
   "source": [
    "### (i) if tomorrow is a weekday"
   ]
  },
  {
   "cell_type": "code",
   "execution_count": 7,
   "metadata": {},
   "outputs": [
    {
     "data": {
      "text/plain": [
       "Text(0.5, 1.0, '80% rainy working day')"
      ]
     },
     "execution_count": 7,
     "metadata": {},
     "output_type": "execute_result"
    },
    {
     "data": {
      "image/png": "[encoded data removed]",
      "text/plain": [
       "<Figure size 432x288 with 1 Axes>"
      ]
     },
     "metadata": {
      "needs_background": "light"
     },
     "output_type": "display_data"
    }
   ],
   "source": [
    "p_workday = 1 # TODO\n",
    "p_sunny = 0.2 # TODO\n",
    "\n",
    "T = 1000 # TODO\n",
    "samples = simulate_rentals(num_samples=T,\n",
    "                           p_workday=p_workday,\n",
    "                           p_sunny=p_sunny,\n",
    "                           means=means,\n",
    "                           stds=stds)\n",
    "\n",
    "plt.hist(samples[:, 2], bins=20)\n",
    "plt.xlabel(\"# of Bike Rentals\");\n",
    "plt.ylabel(\"Samples\");\n",
    "plt.title(\"80% rainy working day\")"
   ]
  },
  {
   "cell_type": "markdown",
   "metadata": {},
   "source": [
    "### (ii) if tomorrow is a weekend"
   ]
  },
  {
   "cell_type": "code",
   "execution_count": 8,
   "metadata": {},
   "outputs": [
    {
     "data": {
      "text/plain": [
       "Text(0.5, 1.0, '80% rainy weekend day')"
      ]
     },
     "execution_count": 8,
     "metadata": {},
     "output_type": "execute_result"
    },
    {
     "data": {
      "image/png": "[encoded data removed]",
      "text/plain": [
       "<Figure size 432x288 with 1 Axes>"
      ]
     },
     "metadata": {
      "needs_background": "light"
     },
     "output_type": "display_data"
    }
   ],
   "source": [
    "p_workday = 0 # TODO\n",
    "p_sunny = 0.2 # TODO\n",
    "\n",
    "T = 1000 # TODO\n",
    "samples = simulate_rentals(num_samples=T,\n",
    "                           p_workday=p_workday,\n",
    "                           p_sunny=p_sunny,\n",
    "                           means=means,\n",
    "                           stds=stds)\n",
    "\n",
    "plt.hist(samples[:, 2], bins=20)\n",
    "plt.xlabel(\"# of Bike Rentals\");\n",
    "plt.ylabel(\"Samples\");\n",
    "plt.title(\"80% rainy weekend day\")"
   ]
  },
  {
   "cell_type": "markdown",
   "metadata": {},
   "source": [
    "## (e) Can you run the procedure to its completion using only the first ten entries of data?"
   ]
  },
  {
   "cell_type": "code",
   "execution_count": 9,
   "metadata": {},
   "outputs": [
    {
     "name": "stdout",
     "output_type": "stream",
     "text": [
      "counts:\n",
      "         rainy sunny\n",
      "weekend  0.0   6042.0\n",
      "workday  484.0   2278.0\n",
      "fraction sunny days: 0.63\n"
     ]
    }
   ],
   "source": [
    "data_smaller = data.head(10) # TODO\n",
    "\n",
    "means, stds, counts = get_subgroup_statistics(data_smaller)\n",
    "print(\"counts:\")\n",
    "print(\"         rainy sunny\")\n",
    "print(\"weekend  {0}   {1}\".format(counts[0,0], counts[0,1]))\n",
    "print(\"workday  {0}   {1}\".format(counts[1,0], counts[1,1]))\n",
    "frac_sunny_days = data['sunny'].mean()\n",
    "print('fraction sunny days: {0:.2f}'.format(frac_sunny_days))\n"
   ]
  },
  {
   "cell_type": "markdown",
   "metadata": {},
   "source": [
    "**TODO: Fill this in, can you run the procedure to completion?**\n",
    "\n",
    "Yes, it can be run to completion. Although, I believe that the samples produced will not be as accurate."
   ]
  },
  {
   "cell_type": "markdown",
   "metadata": {},
   "source": [
    "## (f) Implement the missing code below."
   ]
  },
  {
   "cell_type": "code",
   "execution_count": 10,
   "metadata": {},
   "outputs": [],
   "source": [
    "def sample_mu_by_category(prior_means, prior_sigma, working_day, sunny):\n",
    "    \"\"\"\n",
    "    Sample mu from a Gaussian prior that depends on the properties of the day.\n",
    "    \n",
    "    Parameters\n",
    "    ----------\n",
    "    prior_means : 2x2 array of floats\n",
    "        The prior means where prior_means[i, j] is the prior mean for days\n",
    "        with working_day=i and sunny=j.\n",
    "    prior_sigma : float\n",
    "        The standard deviation of the prior from which we are sampling.\n",
    "    working_day : int\n",
    "        1 if we are sampling the mean for a day that is a workday and 0 for\n",
    "        a day that is a weekend.\n",
    "    sunny : int\n",
    "        1 if we are sampling the mean for a day that is sunny and 0 for\n",
    "        a day that is rainy.\n",
    "        \n",
    "    Returns\n",
    "    -------\n",
    "    mu : float\n",
    "        The sampled mean.\n",
    "    \"\"\"\n",
    "    prior_mean = prior_means[working_day, sunny] # TODO\n",
    "    return np.random.normal(prior_mean, prior_sigma)\n",
    "\n",
    "\n",
    "def prior_prob_by_category(observed_mu, prior_means, prior_sigma, working_day, sunny):\n",
    "    \"\"\"\n",
    "    Compute the probability that we observed mu given specific properties of the day.\n",
    "    \n",
    "    Parameters\n",
    "    ----------\n",
    "    observed_mu : float\n",
    "        The value of mu for which we wish to compute the prior probability.\n",
    "    prior_means : 2x2 array of floats\n",
    "        The prior means where prior_means[i, j] is the prior mean for days\n",
    "        with working_day=i and sunny=j.\n",
    "    prior_sigma : float\n",
    "        The standard deviation of the prior from which we are sampling.\n",
    "    working_day : int\n",
    "        1 if we are sampling the mean for a day that is a workday and 0 for\n",
    "        a day that is a weekend.\n",
    "    sunny : int\n",
    "        1 if we are sampling the mean for a day that is sunny and 0 for\n",
    "        a day that is rainy.\n",
    "        \n",
    "    Returns\n",
    "    -------\n",
    "    prob : float\n",
    "        The computed probability.\n",
    "    \"\"\"\n",
    "    prior_mean = prior_means[working_day, sunny] # TODO\n",
    "    return prior_mean # TODO\n",
    "\n",
    "\n",
    "def compute_likelihood(data, likelihood_means, likelihood_sigma):\n",
    "    \"\"\"\n",
    "    Compute the likelihood that we observed the data given the\n",
    "    means across the four daily categories.\n",
    "    \n",
    "    Parameters\n",
    "    ----------\n",
    "    data : dataframe\n",
    "        A dataframe of bikesharing data with 0/1 categories `sunny` and `working_day`\n",
    "        and numerical value `num_rentals`.\n",
    "    likelihood_means : 2x2 array of floats\n",
    "        The likelihood means where sampled_means[i, j] is the likelihood mean when\n",
    "        work_day=i and sunny=j.\n",
    "    likelihood_sigma : float\n",
    "        The standard deviations of the Gaussians from which the data is drawn.\n",
    "\n",
    "    Returns\n",
    "    -------\n",
    "    prob : float\n",
    "        The likelihood of the data, may be scaled by a fixed constant.\n",
    "    \"\"\"\n",
    "    sunny = data[\"sunny\"].values\n",
    "    working_day = data[\"working_day\"].values\n",
    "    num_rentals = data[\"num_rentals\"].values\n",
    "    \n",
    "    likelihood = 1\n",
    "    # Assume draws are i.i.d. so that likelihoods of each datapoint multiply.\n",
    "    for i in range(len(data)):\n",
    "        x = num_rentals[i]\n",
    "        # mu_this_category is the sampled mean for the sunny/workday combo of row i.\n",
    "        mu_this_category = likelihood_means[working_day[i], sunny[i]]\n",
    "\n",
    "        # Premultiply by 1e4 to keep numerical stability, \n",
    "        # because data is the same length every time this will be ok.\n",
    "#         n = scipy.stats.norm(loc=mu_this_category, scale=likelihood_sigma[working_day[i], sunny[i]])\n",
    "#         likelihood *= 1e4 * x * np.random.normal(mu_this_category, likelihood_sigma) # TODO\n",
    "        likelihood *= 1e4 * scipy.stats.norm.pdf(x=x, loc=mu_this_category, scale=likelihood_sigma)\n",
    "    return likelihood\n",
    "    \n",
    "\n",
    "def gibbs_sampling_posterior(data, num_samples, prior_means, prior_sigma, likelihood_sigma):\n",
    "    \"\"\"\n",
    "    Sample likelihood parameters (the means) along with their posterior probability.\n",
    "    \n",
    "    Parameters\n",
    "    ----------\n",
    "    num_samples : int\n",
    "        The number of samples to draw.\n",
    "    prior_means : 2x2 array of floats\n",
    "        The prior means associated to the likelihood means, where prior_means[i, j]\n",
    "        is the prior mean for working_day=i and sunny=j.\n",
    "    prior_sigma : float\n",
    "        The standard deviation of all the prior Gaussians.\n",
    "    likelihood_sigma : float\n",
    "        The standard deviation of all the likelihood Gaussians.\n",
    "    \n",
    "    Returns\n",
    "    -------\n",
    "    samples : num_samples x 5 array of floats\n",
    "        The array of all generated samples where samples[i] is the subarray with\n",
    "        [mu_sunny_workday, mu_rainy_workday, mu_sunny_weekend, mu_rainy_weekend, c*p(theta, x)]\n",
    "        where the last element is the posterior scaled by any arbitrary positive constant.\n",
    "    \"\"\"\n",
    "    samples = np.zeros((num_samples, 5))\n",
    "    for t in range(num_samples):\n",
    "        # Sample the likelihood parameters.\n",
    "        mu_sunny_workday = sample_mu_by_category(prior_means, prior_sigma, working_day=1, sunny=1) # TODO\n",
    "        mu_sunny_weekend = sample_mu_by_category(prior_means, prior_sigma, working_day=1, sunny=0) # TODO\n",
    "        mu_rainy_workday = sample_mu_by_category(prior_means, prior_sigma, working_day=0, sunny=1) # TODO\n",
    "        mu_rainy_weekend = sample_mu_by_category(prior_means, prior_sigma, working_day=0, sunny=0) # TODO\n",
    "        \n",
    "        # Now compute the likelihood.\n",
    "        theta = np.array([[mu_rainy_weekend, mu_sunny_weekend],\n",
    "                          [mu_rainy_workday, mu_sunny_workday]])\n",
    "        likelihood = compute_likelihood(data, theta, likelihood_sigma)\n",
    "        \n",
    "        # Compute P(theta).\n",
    "        prior_sunny_work = prior_prob_by_category(mu_sunny_workday, prior_means, prior_sigma, working_day=1, sunny=1)\n",
    "        prior_sunny_weekend = prior_prob_by_category(mu_sunny_weekend, prior_means, prior_sigma, working_day=0, sunny=1)\n",
    "        prior_rainy_work = prior_prob_by_category(mu_rainy_workday, prior_means, prior_sigma, working_day=1, sunny=0)\n",
    "        prior_rainy_weekend = prior_prob_by_category(mu_rainy_weekend, prior_means, prior_sigma, working_day=0, sunny=0)\n",
    "        \n",
    "        p_theta = prior_sunny_work * prior_sunny_weekend * prior_rainy_work * prior_rainy_weekend # TODO\n",
    "    \n",
    "        # Save the sample.\n",
    "        x_t = np.zeros(5)\n",
    "        x_t[0] = mu_sunny_workday\n",
    "        x_t[1] = mu_rainy_workday\n",
    "        x_t[2] = mu_sunny_weekend\n",
    "        x_t[3] = mu_rainy_weekend\n",
    "        x_t[4] = likelihood * p_theta # TODO: This should be the posterior probability that this sample was drawn.\n",
    "        samples[t] = x_t\n",
    "\n",
    "    return np.array(samples)"
   ]
  },
  {
   "cell_type": "markdown",
   "metadata": {},
   "source": [
    "## (g) Plot the estimated distributions of the posterior marginals $p(\\mu_{00}), p(\\mu_{01}), p(\\mu_{10})$, and $ p(\\mu_{11})$ from your sample. To do so, plot a histogram of each draw for all means in your sample, weighted by the calculated posterior density associated with that draw. \n",
    "\n",
    "### Do this using the first 10 datapoints, and then 100 datapoints from the total data."
   ]
  },
  {
   "cell_type": "code",
   "execution_count": 13,
   "metadata": {},
   "outputs": [
    {
     "data": {
      "text/plain": [
       "Text(0.5, 1.0, '10 data points')"
      ]
     },
     "execution_count": 13,
     "metadata": {},
     "output_type": "execute_result"
    },
    {
     "data": {
      "image/png": "[encoded data removed]",
      "text/plain": [
       "<Figure size 432x288 with 1 Axes>"
      ]
     },
     "metadata": {
      "needs_background": "light"
     },
     "output_type": "display_data"
    }
   ],
   "source": [
    "mu_rainy_weekend_prior = 4000\n",
    "mu_rainy_workday_prior = 2000\n",
    "\n",
    "mu_sunny_weekend_prior = 4000\n",
    "mu_sunny_workday_prior = 2000\n",
    "\n",
    "prior_sigma = 1000\n",
    "likelihood_sigma = 1000\n",
    "\n",
    "prior_means = np.array([[mu_rainy_weekend_prior, mu_sunny_weekend_prior],\n",
    "                        [mu_rainy_workday_prior, mu_sunny_workday_prior]])\n",
    "\n",
    "samples = gibbs_sampling_posterior(data[:10],\n",
    "                                   num_samples=1000,\n",
    "                                   prior_means=prior_means,\n",
    "                                   prior_sigma=prior_sigma,\n",
    "                                   likelihood_sigma=likelihood_sigma)\n",
    "fig, ax = plt.subplots()\n",
    "\n",
    "ax.hist(samples[:10][0], weights=samples[:10][4], label=\"posterior mu_sunny_workday\", density=True, alpha=0.5)\n",
    "ax.hist(samples[:10][1], weights=samples[:10][4], label=\"posterior mu_rainy_workday\", density=True, alpha=0.5)\n",
    "ax.hist(samples[:10][2], weights=samples[:10][4], label=\"posterior mu_sunny_weekend\", density=True, alpha=0.5)\n",
    "ax.hist(samples[:10][3], weights=samples[:10][4], label=\"posterior mu_rainy_weekend\", density=True, alpha=0.5)\n",
    "\n",
    "ax.legend(bbox_to_anchor=(1, 1))\n",
    "\n",
    "plt.title(\"10 data points\")"
   ]
  },
  {
   "cell_type": "code",
   "execution_count": 14,
   "metadata": {},
   "outputs": [
    {
     "data": {
      "text/plain": [
       "Text(0.5, 1.0, '100 data points')"
      ]
     },
     "execution_count": 14,
     "metadata": {},
     "output_type": "execute_result"
    },
    {
     "data": {
      "image/png": "[encoded data removed]",
      "text/plain": [
       "<Figure size 432x288 with 1 Axes>"
      ]
     },
     "metadata": {
      "needs_background": "light"
     },
     "output_type": "display_data"
    }
   ],
   "source": [
    "samples = gibbs_sampling_posterior(data[:100],\n",
    "                                   num_samples=1000,\n",
    "                                   prior_means=prior_means,\n",
    "                                   prior_sigma=prior_sigma,\n",
    "                                   likelihood_sigma=likelihood_sigma)\n",
    "\n",
    "fig, ax = plt.subplots()\n",
    "\n",
    "ax.hist(samples[:10][0], weights=samples[:10][4], label=\"posterior mu_sunny_workday\", density=True, alpha=0.5)\n",
    "ax.hist(samples[:10][1], weights=samples[:10][4], label=\"posterior mu_rainy_workday\", density=True, alpha=0.5)\n",
    "ax.hist(samples[:10][2], weights=samples[:10][4], label=\"posterior mu_sunny_weekend\", density=True, alpha=0.5)\n",
    "ax.hist(samples[:10][3], weights=samples[:10][4], label=\"posterior mu_rainy_weekend\", density=True, alpha=0.5)\n",
    "\n",
    "ax.legend(bbox_to_anchor=(1, 1))\n",
    "\n",
    "plt.title(\"100 data points\")"
   ]
  },
  {
   "cell_type": "markdown",
   "metadata": {},
   "source": [
    "## (h) Compare and contrast the two motivations above. specifically, address (i) what quantity are you sampling (and thus plotting in the histogram) in each method, and (ii) which approach you would prefer for a small dataset, and why. "
   ]
  },
  {
   "cell_type": "markdown",
   "metadata": {},
   "source": [
    "TODO: Fill this in"
   ]
  }
 ],
 "metadata": {
  "kernelspec": {
   "display_name": "Python 3",
   "language": "python",
   "name": "python3"
  },
  "language_info": {
   "codemirror_mode": {
    "name": "ipython",
    "version": 3
   },
   "file_extension": ".py",
   "mimetype": "text/x-python",
   "name": "python",
   "nbconvert_exporter": "python",
   "pygments_lexer": "ipython3",
   "version": "3.7.3"
  }
 },
 "nbformat": 4,
 "nbformat_minor": 2
}
