{
 "cells": [
  {
   "cell_type": "code",
   "execution_count": 1,
   "metadata": {},
   "outputs": [],
   "source": [
    "import matplotlib.pyplot as plt\n",
    "import numpy as np\n",
    "import scipy.stats\n",
    "import seaborn as sns\n",
    "import math"
   ]
  },
  {
   "cell_type": "markdown",
   "metadata": {},
   "source": [
    "**Part B**"
   ]
  },
  {
   "cell_type": "code",
   "execution_count": 2,
   "metadata": {},
   "outputs": [],
   "source": [
    "n = 100\n",
    "even_spacing = [i/n for i in range(n)]\n",
    "dumbbell = [0] * int(n/2) + [1] * int(n/2)\n",
    "quad = [0] * int(n/3) + [1] * int(n/3) + [0.5] * int(n/3) + [0.5]\n",
    "\n",
    "list_of_lists1 = [even_spacing, dumbbell, quad]"
   ]
  },
  {
   "cell_type": "code",
   "execution_count": 26,
   "metadata": {},
   "outputs": [],
   "source": [
    "a_const = 5\n",
    "b_const = 8\n",
    "# eps = np.random.normal(loc=0, scale=0.5, size=1)"
   ]
  },
  {
   "cell_type": "code",
   "execution_count": 27,
   "metadata": {},
   "outputs": [],
   "source": [
    "y1_even = []\n",
    "y2_dumb = []\n",
    "y3_quad = []\n",
    "list_of_lists2 = [y1_even, y2_dumb, y3_quad]\n",
    "for i in range(3):\n",
    "    for x in list_of_lists1[i]:\n",
    "        y = a_const * x + np.random.normal(loc=0, scale=0.5, size=1)\n",
    "        list_of_lists2[i].append(y[0])\n",
    "        \n"
   ]
  },
  {
   "cell_type": "code",
   "execution_count": 28,
   "metadata": {},
   "outputs": [
    {
     "name": "stderr",
     "output_type": "stream",
     "text": [
      "/usr/local/anaconda3/lib/python3.7/site-packages/ipykernel_launcher.py:10: RuntimeWarning: invalid value encountered in double_scalars\n",
      "  # Remove the CWD from sys.path while we load stuff.\n"
     ]
    }
   ],
   "source": [
    "a_ols = []\n",
    "\n",
    "for i in range(3):\n",
    "    xs = list_of_lists1[i]\n",
    "    ys = list_of_lists2[i]\n",
    "    x_bar = np.mean(xs)\n",
    "    y_bar = np.mean(ys)\n",
    "    alpha = 0\n",
    "    for j in range(n):\n",
    "        alpha += (xs[j] - x_bar) * (ys[j] - y_bar) / (xs[j] - x_bar)**2\n",
    "#     a = np.sum([x - x_bar for x in xs])*np.sum([y - y_bar for y in ys])/np.sum([(x - x_bar)**2 for x in xs])\n",
    "    a_ols.append(alpha)"
   ]
  },
  {
   "cell_type": "code",
   "execution_count": 29,
   "metadata": {},
   "outputs": [
    {
     "data": {
      "text/plain": [
       "[955.5048739574764, 524.3193985660329, nan]"
      ]
     },
     "execution_count": 29,
     "metadata": {},
     "output_type": "execute_result"
    }
   ],
   "source": [
    "a_ols"
   ]
  },
  {
   "cell_type": "code",
   "execution_count": 34,
   "metadata": {},
   "outputs": [
    {
     "data": {
      "image/png": "[encoded data removed]",
      "text/plain": [
       "<Figure size 432x288 with 1 Axes>"
      ]
     },
     "metadata": {
      "needs_background": "light"
     },
     "output_type": "display_data"
    }
   ],
   "source": [
    "plt.scatter(even_spacing, y1_even)\n",
    "# plt.plot(even_spacing, y1_even)\n",
    "plt.title('Even Spacing')\n",
    "plt.show()"
   ]
  },
  {
   "cell_type": "code",
   "execution_count": 31,
   "metadata": {},
   "outputs": [
    {
     "data": {
      "image/png": "[encoded data removed]",
      "text/plain": [
       "<Figure size 432x288 with 1 Axes>"
      ]
     },
     "metadata": {
      "needs_background": "light"
     },
     "output_type": "display_data"
    }
   ],
   "source": [
    "plt.scatter(dumbbell, y2_dumb)\n",
    "# plt.plot(even_spacing, y1_even)\n",
    "plt.title('Dumbbell ')\n",
    "plt.show()"
   ]
  },
  {
   "cell_type": "code",
   "execution_count": 32,
   "metadata": {
    "scrolled": true
   },
   "outputs": [
    {
     "data": {
      "image/png": "[encoded data removed]",
      "text/plain": [
       "<Figure size 432x288 with 1 Axes>"
      ]
     },
     "metadata": {
      "needs_background": "light"
     },
     "output_type": "display_data"
    }
   ],
   "source": [
    "plt.scatter(quad, y3_quad)\n",
    "plt.title('Quadratic')\n",
    "plt.show()"
   ]
  },
  {
   "cell_type": "code",
   "execution_count": 35,
   "metadata": {},
   "outputs": [],
   "source": [
    "y1_even = []\n",
    "y2_dumb = []\n",
    "y3_quad = []\n",
    "list_of_lists2 = [y1_even, y2_dumb, y3_quad]\n",
    "for i in range(3):\n",
    "    for x in list_of_lists1[i]:\n",
    "        y = b_const * (x - 0.5)**2 + np.random.normal(loc=0, scale=0.5, size=1)\n",
    "        list_of_lists2[i].append(y[0])\n"
   ]
  },
  {
   "cell_type": "code",
   "execution_count": 36,
   "metadata": {},
   "outputs": [
    {
     "name": "stderr",
     "output_type": "stream",
     "text": [
      "/usr/local/anaconda3/lib/python3.7/site-packages/ipykernel_launcher.py:10: RuntimeWarning: invalid value encountered in double_scalars\n",
      "  # Remove the CWD from sys.path while we load stuff.\n"
     ]
    }
   ],
   "source": [
    "a_ols = []\n",
    "\n",
    "for i in range(3):\n",
    "    xs = list_of_lists1[i]\n",
    "    ys = list_of_lists2[i]\n",
    "    x_bar = np.mean(xs)\n",
    "    y_bar = np.mean(ys)\n",
    "    alpha = 0\n",
    "    for j in range(n):\n",
    "        alpha += (xs[j] - x_bar) * (ys[j] - y_bar) / (xs[j] - x_bar)**2\n",
    "    a_ols.append(alpha)"
   ]
  },
  {
   "cell_type": "code",
   "execution_count": 37,
   "metadata": {
    "scrolled": true
   },
   "outputs": [
    {
     "data": {
      "text/plain": [
       "[105.8799360342669, -2.7380566902176735, nan]"
      ]
     },
     "execution_count": 37,
     "metadata": {},
     "output_type": "execute_result"
    }
   ],
   "source": [
    "a_ols"
   ]
  },
  {
   "cell_type": "code",
   "execution_count": 38,
   "metadata": {},
   "outputs": [
    {
     "data": {
      "image/png": "[encoded data removed]",
      "text/plain": [
       "<Figure size 432x288 with 1 Axes>"
      ]
     },
     "metadata": {
      "needs_background": "light"
     },
     "output_type": "display_data"
    }
   ],
   "source": [
    "plt.scatter(even_spacing, y1_even)\n",
    "# plt.plot(even_spacing, y1_even)\n",
    "plt.title('Even Spacing')\n",
    "plt.show()"
   ]
  },
  {
   "cell_type": "code",
   "execution_count": 39,
   "metadata": {},
   "outputs": [
    {
     "data": {
      "image/png": "[encoded data removed]",
      "text/plain": [
       "<Figure size 432x288 with 1 Axes>"
      ]
     },
     "metadata": {
      "needs_background": "light"
     },
     "output_type": "display_data"
    }
   ],
   "source": [
    "plt.scatter(dumbbell, y2_dumb)\n",
    "# plt.plot(even_spacing, y1_even)\n",
    "plt.title('Dumbbell ')\n",
    "plt.show()"
   ]
  },
  {
   "cell_type": "code",
   "execution_count": 40,
   "metadata": {},
   "outputs": [
    {
     "data": {
      "image/png": "[encoded data removed]",
      "text/plain": [
       "<Figure size 432x288 with 1 Axes>"
      ]
     },
     "metadata": {
      "needs_background": "light"
     },
     "output_type": "display_data"
    }
   ],
   "source": [
    "plt.scatter(quad, y3_quad)\n",
    "plt.title('Quadratic')\n",
    "plt.show()"
   ]
  }
 ],
 "metadata": {
  "kernelspec": {
   "display_name": "Python 3",
   "language": "python",
   "name": "python3"
  },
  "language_info": {
   "codemirror_mode": {
    "name": "ipython",
    "version": 3
   },
   "file_extension": ".py",
   "mimetype": "text/x-python",
   "name": "python",
   "nbconvert_exporter": "python",
   "pygments_lexer": "ipython3",
   "version": "3.7.3"
  }
 },
 "nbformat": 4,
 "nbformat_minor": 2
}
