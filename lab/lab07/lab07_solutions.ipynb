{
 "cells": [
  {
   "cell_type": "markdown",
   "metadata": {},
   "source": [
    "## Instrumental Variables Background"
   ]
  },
  {
   "cell_type": "markdown",
   "metadata": {},
   "source": [
    "Suppose that we measure a set of features $\\{X^*,X\\}$, which affect an observed target outcome $Y$, for multiple different units. We are interested in finding the average causal effect of $X^*$ on $Y$. The effect we are interested in is **causal** because we want to know how $Y$ changes if all randomness other than $X^*$ remains fixed, and only $X^*$ changes. We will refer to $X^*$ as the \"treatment\". In general, $X$ might be multi-dimensional, however for the purpose of this exercise we take $X^*, X\\in\\mathbb{R}$."
   ]
  },
  {
   "cell_type": "markdown",
   "metadata": {},
   "source": [
    "We assume that the outcome is generated as a linear function of the feature $X$ and treatment $X^*$, with additive noise $\\xi_Y$:\n",
    "$$$$\n",
    "$$Y = \\alpha X^* + \\beta X + \\xi_Y.$$"
   ]
  },
  {
   "cell_type": "markdown",
   "metadata": {},
   "source": [
    "Suppose $X$ is uncorrelated with $\\xi_Y$. If, additionally, the treatment is uncorrelated with the additive noise, ordinary least squares (OLS) yields unbiased results, giving $\\alpha$ in expectation. However, the treatment is often correlated with the additive term; this might be due to the effect of some variables which are important for the generation of $Y$, but were not measured."
   ]
  },
  {
   "cell_type": "markdown",
   "metadata": {},
   "source": [
    "One way to get around this issue is by using instrumental variables (IVs). A valid instrument $Z$ is a variable which is independent of $\\xi_Y$, and affects $Y$ only through $X^*$. Then, one way to estimate $\\alpha$ is to first \"guess\" $X^*$ from $\\{Z,X\\}$ (denoted $\\hat X^*$), and then regress $Y$ onto $\\{\\hat X^*, X\\}$ (instead of $\\{X^*, X\\}$). If both the initial \"guess\" $\\hat X^*$ and $Y$ regressed onto the $\\{\\hat X^*, X\\}$ are obtained using ordinary least squares, this procedure is known as two-stage least squares (2SLS)."
   ]
  },
  {
   "cell_type": "markdown",
   "metadata": {},
   "source": [
    "For a concrete example, suppose a researcher wishes to estimate the causal effect of drinking tea on fever reduction (only among sick patients, of course, as there is no need for fever reduction among healthy individuals). Correlation between the amount of tea a patient drinks and fever reduction does not necessarily imply that drinking tea improves health, because other variables, such as how long the patient has been sick and how much medication they are taking, might relate to both one's health and the amount of consumed tea. However, the researcher may attempt to estimate the causal effect of drinking tea on health by using instrumental variables. Suppose that drinking tea is sufficiently correlated with the outside temperature. Then, the researcher can use outside temperature as an instrumental variable, as it is fairly reasonable to assume that it doesn't directly affect fever reduction (but only through tea consumption)."
   ]
  },
  {
   "cell_type": "markdown",
   "metadata": {},
   "source": [
    "Suppose that we have historical data from 10,000 different individuals. We have the following variables: $X^* =$ amount of consumed tea, $X =$ medication taken, $Z = $ outside temperature and $Y = $ degrees of fever reduction. Suppose that the number of sick days the patient has been sick $W$ affects all of $X^*, X, Y$, but is not measured."
   ]
  },
  {
   "cell_type": "markdown",
   "metadata": {},
   "source": [
    "In particular, suppose the data is generated as follows:\n",
    "$$W \\sim D_{W}, ~ ~ Z\\sim D_Z, ~ ~ X \\sim D_X$$ (sick days, outside temperature and medication randomly drawn from some distributions)\n",
    "$$X^* = \\delta W + \\gamma Z + \\xi_*,$$\n",
    "(amount of consumed tea is linear in the number of sick days and outside temperature, with random independent noise added)\n",
    "$$Y = \\alpha X^* + \\beta_1 W + \\beta_2 X.$$ (fever reduction is linear in tea consumption, sick days and medication taken)"
   ]
  },
  {
   "cell_type": "markdown",
   "metadata": {},
   "source": [
    "The true causal effect of tea consumption on fever reduction is thus $\\alpha$."
   ]
  },
  {
   "cell_type": "markdown",
   "metadata": {},
   "source": [
    "We set the above parameters:"
   ]
  },
  {
   "cell_type": "code",
   "execution_count": 1,
   "metadata": {},
   "outputs": [],
   "source": [
    "import numpy as np\n",
    "import statsmodels.api as sm"
   ]
  },
  {
   "cell_type": "code",
   "execution_count": 2,
   "metadata": {},
   "outputs": [],
   "source": [
    "N = 10000 # sample size\n",
    "alpha = 50 # tea to fever_reduction\n",
    "true_effect = alpha\n",
    "gamma = -1.5 # temperature to tea\n",
    "delta = 2 # days_sick to tea\n",
    "beta_1 = 100 # days_sick to fever_reduction\n",
    "beta_2 = -10 # medication to fever_reduction\n",
    "\n",
    "days_sick = np.random.normal(30,5,(N,1)) # distribution of sick days\n",
    "temperature = np.random.normal(20,1,(N,1)) # distribution of outside temperature\n",
    "medication = np.random.normal(100,20,(N,1)) # distribution of taken medication"
   ]
  },
  {
   "cell_type": "code",
   "execution_count": 3,
   "metadata": {},
   "outputs": [],
   "source": [
    "tea = gamma * temperature + delta * days_sick + np.random.normal(15,5,(N,1))"
   ]
  },
  {
   "cell_type": "code",
   "execution_count": 4,
   "metadata": {},
   "outputs": [],
   "source": [
    "fever_reduction = alpha * tea + beta_1 * days_sick + beta_2 * medication"
   ]
  },
  {
   "cell_type": "markdown",
   "metadata": {},
   "source": [
    "The number of sick days is unfortunately unobserved. Suppose we first estimate the causal effect using plain linear regression (OLS), where we regress fever reduction onto medication taken and tea consumption."
   ]
  },
  {
   "cell_type": "code",
   "execution_count": 5,
   "metadata": {},
   "outputs": [],
   "source": [
    "ols_features = np.concatenate([tea, medication], axis=1)\n",
    "ols_features_w_const = sm.add_constant(ols_features) # prepend a constant feature for intercept term\n",
    "ols_model = sm.OLS(fever_reduction, ols_features_w_const)\n",
    "ols_results = (ols_model.fit()).params # predicted coefficients\n",
    "alpha_ols = ols_results[1]"
   ]
  },
  {
   "cell_type": "markdown",
   "metadata": {},
   "source": [
    "As the error, we take the absolute error $|\\alpha - \\alpha_{OLS}|$."
   ]
  },
  {
   "cell_type": "code",
   "execution_count": 6,
   "metadata": {},
   "outputs": [
    {
     "name": "stdout",
     "output_type": "stream",
     "text": [
      "Error in causal estimate of linear regression (OLS): 39.19978\n"
     ]
    }
   ],
   "source": [
    "# Compute Error\n",
    "ols_error = np.abs((alpha_ols - true_effect))\n",
    "print(\"Error in causal estimate of linear regression (OLS): {:.5f}\".format(ols_error))"
   ]
  },
  {
   "cell_type": "markdown",
   "metadata": {},
   "source": [
    "To eliminate the bias, we turn to instrumental variables. In the first stage, we \"predict\" tea consumption from the outside temperature and medication taken. Then, in the second stage, we regress fever reduction onto medication taken and the predicted tea consumption."
   ]
  },
  {
   "cell_type": "code",
   "execution_count": 7,
   "metadata": {},
   "outputs": [],
   "source": [
    "# First Stage\n",
    "stage1_features = np.concatenate([temperature, medication], axis = 1)\n",
    "stage1_features_w_const = sm.add_constant(stage1_features) # prepend a constant feature for intercept term\n",
    "stage1_ols = sm.OLS(tea, stage1_features_w_const)\n",
    "stage1_ols_results = (stage1_ols.fit()).params # predicted coefficients"
   ]
  },
  {
   "cell_type": "markdown",
   "metadata": {},
   "source": [
    "Now we predict tea $\\hat X^*$ from $Z$ and $X$, using the model from the first stage."
   ]
  },
  {
   "cell_type": "code",
   "execution_count": 8,
   "metadata": {},
   "outputs": [],
   "source": [
    "tea_predicted = stage1_ols_results[0] + stage1_ols_results[1] * temperature + stage1_ols_results[2] * medication"
   ]
  },
  {
   "cell_type": "markdown",
   "metadata": {},
   "source": [
    "Below we implement the second stage, in which we regress $Y$ onto $\\hat X^*$ and $X$."
   ]
  },
  {
   "cell_type": "code",
   "execution_count": 9,
   "metadata": {},
   "outputs": [],
   "source": [
    "# Second Stage\n",
    "stage2_features = np.concatenate([tea_predicted, medication], axis=1)\n",
    "stage2_features_w_const = sm.add_constant(stage2_features) # prepend a constant feature for intercept term\n",
    "stage2_model = sm.OLS(fever_reduction, stage2_features_w_const)\n",
    "stage2ols_results = (stage2_model.fit()).params\n",
    "alpha_2SLS = stage2ols_results[1]"
   ]
  },
  {
   "cell_type": "markdown",
   "metadata": {},
   "source": [
    "Again we look at the absolute error $|\\alpha - \\alpha_{2SLS}|$."
   ]
  },
  {
   "cell_type": "code",
   "execution_count": 10,
   "metadata": {},
   "outputs": [
    {
     "name": "stdout",
     "output_type": "stream",
     "text": [
      "Error in causal estimate of two-stage least squares (2SLS): 2.75893\n"
     ]
    }
   ],
   "source": [
    "# Compute Error\n",
    "_2SLS_error = np.abs(alpha_2SLS - true_effect)\n",
    "print(\"Error in causal estimate of two-stage least squares (2SLS): {:.5f}\".format(_2SLS_error))"
   ]
  },
  {
   "cell_type": "markdown",
   "metadata": {},
   "source": [
    "### Summarize your findings below."
   ]
  },
  {
   "cell_type": "code",
   "execution_count": null,
   "metadata": {},
   "outputs": [],
   "source": []
  }
 ],
 "metadata": {
  "kernelspec": {
   "display_name": "Python 3",
   "language": "python",
   "name": "python3"
  },
  "language_info": {
   "codemirror_mode": {
    "name": "ipython",
    "version": 3
   },
   "file_extension": ".py",
   "mimetype": "text/x-python",
   "name": "python",
   "nbconvert_exporter": "python",
   "pygments_lexer": "ipython3",
   "version": "3.7.3"
  }
 },
 "nbformat": 4,
 "nbformat_minor": 2
}
